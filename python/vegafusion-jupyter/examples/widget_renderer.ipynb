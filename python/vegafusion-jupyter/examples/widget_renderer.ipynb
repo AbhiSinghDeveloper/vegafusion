{
 "cells": [
  {
   "cell_type": "code",
   "execution_count": null,
   "id": "7ab0babb-0200-4446-8afc-20e0e3f673ef",
   "metadata": {},
   "outputs": [],
   "source": [
    "from vega_datasets import data\n",
    "import altair as alt\n",
    "source = alt.UrlData(\n",
    "    # data.flights_3m.url,\n",
    "    data.flights_200k.url,\n",
    "    # data.flights_2k.url,\n",
    ")\n",
    "source"
   ]
  },
  {
   "cell_type": "code",
   "execution_count": null,
   "id": "2c6430b9-0c9e-40cb-aace-2c3e54e40408",
   "metadata": {},
   "outputs": [],
   "source": [
    "import altair as alt\n",
    "brush = alt.selection(type='interval', encodings=['x'])\n",
    "\n",
    "# Define the base chart, with the common parts of the\n",
    "# background and highlights\n",
    "base = alt.Chart().mark_bar().encode(\n",
    "    x=alt.X(alt.repeat('column'), type='quantitative', bin=alt.Bin(maxbins=20)),\n",
    "    y='count()'\n",
    ").properties(\n",
    "    width=160,\n",
    "    height=130\n",
    ")\n",
    "\n",
    "# gray background with selection\n",
    "background = base.encode(\n",
    "    color=alt.value('#ddd')\n",
    ").add_selection(brush)\n",
    "\n",
    "# blue highlights on the transformed data\n",
    "highlight = base.transform_filter(brush)\n",
    "\n",
    "# layer the two charts & repeat\n",
    "chart = alt.layer(\n",
    "    background,\n",
    "    highlight,\n",
    "    data=source\n",
    ")\n",
    "\n",
    "chart = chart.repeat(column=[\"distance\", \"delay\"])\n",
    "chart"
   ]
  },
  {
   "cell_type": "code",
   "execution_count": null,
   "id": "bcfc86f9-dfdf-40ec-bf0a-8ca112ba6a15",
   "metadata": {},
   "outputs": [],
   "source": [
    "from vegafusion_jupyter.widget import VegaFusionWidget\n",
    "alt.renderers.enable('vegafusion')"
   ]
  },
  {
   "cell_type": "code",
   "execution_count": null,
   "id": "f469bcbf-6cda-46ae-aca3-e861a4f017e0",
   "metadata": {},
   "outputs": [],
   "source": [
    "chart"
   ]
  },
  {
   "cell_type": "code",
   "execution_count": null,
   "id": "f1012425-3078-4c7f-afc2-854299671475",
   "metadata": {},
   "outputs": [],
   "source": [
    "chart_widget = VegaFusionWidget(chart)\n",
    "chart_widget"
   ]
  },
  {
   "cell_type": "code",
   "execution_count": null,
   "id": "d479575f-68f7-4b9f-a348-0a70a68fc852",
   "metadata": {},
   "outputs": [],
   "source": [
    "source = alt.UrlData(\n",
    "    # data.flights_3m.url,\n",
    "    data.seattle_weather.url,\n",
    "    # data.flights_2k.url,\n",
    ")\n",
    "source"
   ]
  },
  {
   "cell_type": "code",
   "execution_count": null,
   "id": "79533d8c-9114-4ff9-adbc-0b07f68307ab",
   "metadata": {},
   "outputs": [],
   "source": [
    "import altair as alt\n",
    "from vega_datasets import data\n",
    "\n",
    "source = data.seattle_weather()\n",
    "brush = alt.selection(type='interval', encodings=['x'])\n",
    "\n",
    "bars = alt.Chart().mark_bar().encode(\n",
    "    x='month(date):O',\n",
    "    y='mean(precipitation):Q',\n",
    "    opacity=alt.condition(brush, alt.OpacityValue(1), alt.OpacityValue(0.7)),\n",
    ").add_selection(\n",
    "    brush\n",
    ")\n",
    "\n",
    "line = alt.Chart().mark_rule(color='firebrick').encode(\n",
    "    y='mean(precipitation):Q',\n",
    "    size=alt.SizeValue(3)\n",
    ").transform_filter(\n",
    "    brush\n",
    ")\n",
    "\n",
    "alt.layer(bars, line, data=source)"
   ]
  },
  {
   "cell_type": "code",
   "execution_count": null,
   "id": "fa01874e-7d27-4f6e-abae-c25025a7d81d",
   "metadata": {},
   "outputs": [],
   "source": [
    "source"
   ]
  },
  {
   "cell_type": "code",
   "execution_count": null,
   "id": "38581eff-3b6b-41d5-861b-1fa28a05b69e",
   "metadata": {},
   "outputs": [],
   "source": []
  }
 ],
 "metadata": {
  "kernelspec": {
   "display_name": "Python 3 (ipykernel)",
   "language": "python",
   "name": "python3"
  },
  "language_info": {
   "codemirror_mode": {
    "name": "ipython",
    "version": 3
   },
   "file_extension": ".py",
   "mimetype": "text/x-python",
   "name": "python",
   "nbconvert_exporter": "python",
   "pygments_lexer": "ipython3",
   "version": "3.8.12"
  }
 },
 "nbformat": 4,
 "nbformat_minor": 5
}
