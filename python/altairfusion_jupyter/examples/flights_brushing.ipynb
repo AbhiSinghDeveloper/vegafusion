{
 "cells": [
  {
   "cell_type": "code",
   "execution_count": null,
   "id": "857c5006-b84a-4e16-8404-fa91894ff7ab",
   "metadata": {},
   "outputs": [],
   "source": [
    "from vega_datasets import data\n",
    "import altair as alt\n",
    "source = alt.UrlData(\n",
    "    data.flights_3m.url,\n",
    "    # data.flights_200k.url,\n",
    ")\n",
    "source"
   ]
  },
  {
   "cell_type": "code",
   "execution_count": 8,
   "id": "af3e7e72-da47-45a8-b245-67f59568c44a",
   "metadata": {},
   "outputs": [],
   "source": [
    "import altair as alt\n",
    "brush = alt.selection(type='interval', encodings=['x'])"
   ]
  },
  {
   "cell_type": "code",
   "execution_count": 7,
   "id": "6e97c855-9e67-4259-8303-71c64e39915b",
   "metadata": {},
   "outputs": [
    {
     "name": "stdout",
     "output_type": "stream",
     "text": [
      "CPU times: user 47.6 ms, sys: 0 ns, total: 47.6 ms\n",
      "Wall time: 46.1 ms\n"
     ]
    }
   ],
   "source": [
    "%%time\n",
    "# Define the base chart, with the common parts of the\n",
    "# background and highlights\n",
    "base = alt.Chart().mark_bar().encode(\n",
    "    x=alt.X(alt.repeat('column'), type='quantitative', bin=alt.Bin(maxbins=20)),\n",
    "    y='count()'\n",
    ").properties(\n",
    "    width=160,\n",
    "    height=130\n",
    ")"
   ]
  },
  {
   "cell_type": "code",
   "execution_count": null,
   "id": "7d053556-749c-4887-b648-101f5f2969b7",
   "metadata": {},
   "outputs": [],
   "source": [
    "# gray background with selection\n",
    "background = base.encode(\n",
    "    color=alt.value('#ddd')\n",
    ").add_selection(brush)\n",
    "\n",
    "# blue highlights on the transformed data\n",
    "highlight = base.transform_filter(brush)\n",
    "\n",
    "# layer the two charts & repeat\n",
    "chart = alt.layer(\n",
    "    background,\n",
    "    highlight,\n",
    "    data=source\n",
    ")\n",
    "\n",
    "chart = chart.repeat(column=[\"distance\", \"delay\"])\n",
    "chart"
   ]
  },
  {
   "cell_type": "code",
   "execution_count": 9,
   "id": "c9919858-13ae-4216-a8d5-9e2938b62943",
   "metadata": {},
   "outputs": [],
   "source": [
    "import altairfusion_jupyter as alt\n",
    "\n",
    "brush = alt.selection(type='interval', encodings=['x'])"
   ]
  },
  {
   "cell_type": "code",
   "execution_count": 14,
   "id": "b754d49e-6002-484e-a734-d5a481901545",
   "metadata": {},
   "outputs": [
    {
     "name": "stdout",
     "output_type": "stream",
     "text": [
      "CPU times: user 440 ms, sys: 16.4 ms, total: 456 ms\n",
      "Wall time: 440 ms\n"
     ]
    },
    {
     "data": {
      "application/vnd.jupyter.widget-view+json": {
       "model_id": "f4cfbd0dea3c472a81d8a2f9f47ae4f2",
       "version_major": 2,
       "version_minor": 0
      },
      "text/plain": [
       "altairfusion.Chart(...)"
      ]
     },
     "metadata": {},
     "output_type": "display_data"
    }
   ],
   "source": [
    "%%time\n",
    "alt.Chart().mark_bar().encode(\n",
    "    x=alt.X(alt.repeat('column'), type='quantitative', bin=alt.Bin(maxbins=20)),\n",
    "    y='count()'\n",
    ")"
   ]
  },
  {
   "cell_type": "code",
   "execution_count": 3,
   "id": "0c753644-8132-487c-9c11-6ece9f62df8a",
   "metadata": {},
   "outputs": [
    {
     "name": "stdout",
     "output_type": "stream",
     "text": [
      "CPU times: user 686 ms, sys: 16 ms, total: 702 ms\n",
      "Wall time: 679 ms\n"
     ]
    }
   ],
   "source": [
    "%%time\n",
    "# Define the base chart, with the common parts of the\n",
    "# background and highlights\n",
    "base = alt.Chart().mark_bar().encode(\n",
    "    x=alt.X(alt.repeat('column'), type='quantitative', bin=alt.Bin(maxbins=20)),\n",
    "    y='count()'\n",
    ").properties(\n",
    "    width=160,\n",
    "    height=130\n",
    ")"
   ]
  },
  {
   "cell_type": "code",
   "execution_count": null,
   "id": "af276864-9ea3-4c33-943c-7a397b0c2bce",
   "metadata": {},
   "outputs": [],
   "source": [
    "# gray background with selection\n",
    "background = base.encode(\n",
    "    color=alt.value('#ddd')\n",
    ").add_selection(brush)\n",
    "\n",
    "# blue highlights on the transformed data\n",
    "highlight = base.transform_filter(brush)\n",
    "\n",
    "# layer the two charts & repeat\n",
    "chart = alt.layer(\n",
    "    background,\n",
    "    highlight,\n",
    "    data=source\n",
    ")\n",
    "\n",
    "chart = chart.repeat(column=[\"distance\", \"delay\"])"
   ]
  },
  {
   "cell_type": "code",
   "execution_count": null,
   "id": "77a8c4bb-a71d-4fc7-99b6-44e742f38521",
   "metadata": {},
   "outputs": [],
   "source": [
    "chart"
   ]
  },
  {
   "cell_type": "code",
   "execution_count": null,
   "id": "16d5f26c-aea7-4f74-8c74-88dd7c8568df",
   "metadata": {},
   "outputs": [],
   "source": [
    "chart.vega_spec_full"
   ]
  },
  {
   "cell_type": "code",
   "execution_count": null,
   "id": "fdeaa520-3e9f-4421-bf3b-25d142e3b5be",
   "metadata": {},
   "outputs": [],
   "source": []
  }
 ],
 "metadata": {
  "kernelspec": {
   "display_name": "Python 3 (ipykernel)",
   "language": "python",
   "name": "python3"
  },
  "language_info": {
   "codemirror_mode": {
    "name": "ipython",
    "version": 3
   },
   "file_extension": ".py",
   "mimetype": "text/x-python",
   "name": "python",
   "nbconvert_exporter": "python",
   "pygments_lexer": "ipython3",
   "version": "3.8.12"
  }
 },
 "nbformat": 4,
 "nbformat_minor": 5
}
