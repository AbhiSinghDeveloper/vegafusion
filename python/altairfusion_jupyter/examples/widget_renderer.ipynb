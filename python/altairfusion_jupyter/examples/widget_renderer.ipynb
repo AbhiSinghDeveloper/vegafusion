{
 "cells": [
  {
   "cell_type": "code",
   "execution_count": 1,
   "id": "7ab0babb-0200-4446-8afc-20e0e3f673ef",
   "metadata": {},
   "outputs": [
    {
     "data": {
      "text/plain": [
       "UrlData({\n",
       "  url: 'https://cdn.jsdelivr.net/npm/vega-datasets@v1.29.0/data/flights-200k.json'\n",
       "})"
      ]
     },
     "execution_count": 1,
     "metadata": {},
     "output_type": "execute_result"
    }
   ],
   "source": [
    "from vega_datasets import data\n",
    "import altair as alt\n",
    "source = alt.UrlData(\n",
    "    # data.flights_3m.url,\n",
    "    data.flights_200k.url,\n",
    "    # data.flights_2k.url,\n",
    ")\n",
    "source"
   ]
  },
  {
   "cell_type": "code",
   "execution_count": 2,
   "id": "2c6430b9-0c9e-40cb-aace-2c3e54e40408",
   "metadata": {},
   "outputs": [
    {
     "data": {
      "text/html": [
       "\n",
       "<div id=\"altair-viz-baa132b3e8fb436f85872873568960d9\"></div>\n",
       "<script type=\"text/javascript\">\n",
       "  (function(spec, embedOpt){\n",
       "    let outputDiv = document.currentScript.previousElementSibling;\n",
       "    if (outputDiv.id !== \"altair-viz-baa132b3e8fb436f85872873568960d9\") {\n",
       "      outputDiv = document.getElementById(\"altair-viz-baa132b3e8fb436f85872873568960d9\");\n",
       "    }\n",
       "    const paths = {\n",
       "      \"vega\": \"https://cdn.jsdelivr.net/npm//vega@5?noext\",\n",
       "      \"vega-lib\": \"https://cdn.jsdelivr.net/npm//vega-lib?noext\",\n",
       "      \"vega-lite\": \"https://cdn.jsdelivr.net/npm//vega-lite@4.8.1?noext\",\n",
       "      \"vega-embed\": \"https://cdn.jsdelivr.net/npm//vega-embed@6?noext\",\n",
       "    };\n",
       "\n",
       "    function loadScript(lib) {\n",
       "      return new Promise(function(resolve, reject) {\n",
       "        var s = document.createElement('script');\n",
       "        s.src = paths[lib];\n",
       "        s.async = true;\n",
       "        s.onload = () => resolve(paths[lib]);\n",
       "        s.onerror = () => reject(`Error loading script: ${paths[lib]}`);\n",
       "        document.getElementsByTagName(\"head\")[0].appendChild(s);\n",
       "      });\n",
       "    }\n",
       "\n",
       "    function showError(err) {\n",
       "      outputDiv.innerHTML = `<div class=\"error\" style=\"color:red;\">${err}</div>`;\n",
       "      throw err;\n",
       "    }\n",
       "\n",
       "    function displayChart(vegaEmbed) {\n",
       "      vegaEmbed(outputDiv, spec, embedOpt)\n",
       "        .catch(err => showError(`Javascript Error: ${err.message}<br>This usually means there's a typo in your chart specification. See the javascript console for the full traceback.`));\n",
       "    }\n",
       "\n",
       "    if(typeof define === \"function\" && define.amd) {\n",
       "      requirejs.config({paths});\n",
       "      require([\"vega-embed\"], displayChart, err => showError(`Error loading script: ${err.message}`));\n",
       "    } else if (typeof vegaEmbed === \"function\") {\n",
       "      displayChart(vegaEmbed);\n",
       "    } else {\n",
       "      loadScript(\"vega\")\n",
       "        .then(() => loadScript(\"vega-lite\"))\n",
       "        .then(() => loadScript(\"vega-embed\"))\n",
       "        .catch(showError)\n",
       "        .then(() => displayChart(vegaEmbed));\n",
       "    }\n",
       "  })({\"config\": {\"view\": {\"continuousWidth\": 400, \"continuousHeight\": 300}}, \"repeat\": {\"column\": [\"distance\", \"delay\"]}, \"spec\": {\"layer\": [{\"mark\": \"bar\", \"encoding\": {\"color\": {\"value\": \"#ddd\"}, \"x\": {\"type\": \"quantitative\", \"bin\": {\"maxbins\": 20}, \"field\": {\"repeat\": \"column\"}}, \"y\": {\"type\": \"quantitative\", \"aggregate\": \"count\"}}, \"height\": 130, \"selection\": {\"selector001\": {\"type\": \"interval\", \"encodings\": [\"x\"]}}, \"width\": 160}, {\"mark\": \"bar\", \"encoding\": {\"x\": {\"type\": \"quantitative\", \"bin\": {\"maxbins\": 20}, \"field\": {\"repeat\": \"column\"}}, \"y\": {\"type\": \"quantitative\", \"aggregate\": \"count\"}}, \"height\": 130, \"transform\": [{\"filter\": {\"selection\": \"selector001\"}}], \"width\": 160}], \"data\": {\"url\": \"https://cdn.jsdelivr.net/npm/vega-datasets@v1.29.0/data/flights-200k.json\"}}, \"$schema\": \"https://vega.github.io/schema/vega-lite/v4.8.1.json\"}, {\"mode\": \"vega-lite\"});\n",
       "</script>"
      ],
      "text/plain": [
       "alt.RepeatChart(...)"
      ]
     },
     "execution_count": 2,
     "metadata": {},
     "output_type": "execute_result"
    }
   ],
   "source": [
    "import altair as alt\n",
    "brush = alt.selection(type='interval', encodings=['x'])\n",
    "\n",
    "# Define the base chart, with the common parts of the\n",
    "# background and highlights\n",
    "base = alt.Chart().mark_bar().encode(\n",
    "    x=alt.X(alt.repeat('column'), type='quantitative', bin=alt.Bin(maxbins=20)),\n",
    "    y='count()'\n",
    ").properties(\n",
    "    width=160,\n",
    "    height=130\n",
    ")\n",
    "\n",
    "# gray background with selection\n",
    "background = base.encode(\n",
    "    color=alt.value('#ddd')\n",
    ").add_selection(brush)\n",
    "\n",
    "# blue highlights on the transformed data\n",
    "highlight = base.transform_filter(brush)\n",
    "\n",
    "# layer the two charts & repeat\n",
    "chart = alt.layer(\n",
    "    background,\n",
    "    highlight,\n",
    "    data=source\n",
    ")\n",
    "\n",
    "chart = chart.repeat(column=[\"distance\", \"delay\"])\n",
    "chart"
   ]
  },
  {
   "cell_type": "code",
   "execution_count": 6,
   "id": "bcfc86f9-dfdf-40ec-bf0a-8ca112ba6a15",
   "metadata": {},
   "outputs": [
    {
     "data": {
      "text/plain": [
       "RendererRegistry.enable('vegafusion')"
      ]
     },
     "execution_count": 6,
     "metadata": {},
     "output_type": "execute_result"
    }
   ],
   "source": [
    "from altairfusion_jupyter.widget import VegaFusionWidget\n",
    "alt.renderers.enable('vegafusion')"
   ]
  },
  {
   "cell_type": "code",
   "execution_count": 7,
   "id": "f469bcbf-6cda-46ae-aca3-e861a4f017e0",
   "metadata": {},
   "outputs": [
    {
     "data": {
      "application/vnd.jupyter.widget-view+json": {
       "model_id": "53772ce996a44676b1a3a54b5a8951ea",
       "version_major": 2,
       "version_minor": 0
      },
      "text/plain": [
       "VegaFusionWidget(vegalite_spec='{\"config\": {\"view\": {\"continuousWidth\": 400, \"continuousHeight\": 300}}, \"repea…"
      ]
     },
     "metadata": {},
     "output_type": "display_data"
    },
    {
     "data": {
      "text/plain": []
     },
     "execution_count": 7,
     "metadata": {},
     "output_type": "execute_result"
    }
   ],
   "source": [
    "chart"
   ]
  },
  {
   "cell_type": "code",
   "execution_count": 10,
   "id": "f1012425-3078-4c7f-afc2-854299671475",
   "metadata": {},
   "outputs": [
    {
     "data": {
      "application/vnd.jupyter.widget-view+json": {
       "model_id": "01312605e4a9401088e5b6c4ae282e4e",
       "version_major": 2,
       "version_minor": 0
      },
      "text/plain": [
       "VegaFusionWidget(vegalite_spec='{\\n  \"$schema\": \"https://vega.github.io/schema/vega-lite/v4.8.1.json\",\\n  \"con…"
      ]
     },
     "metadata": {},
     "output_type": "display_data"
    }
   ],
   "source": [
    "chart_widget = VegaFusionWidget(chart)\n",
    "chart_widget"
   ]
  },
  {
   "cell_type": "code",
   "execution_count": null,
   "id": "77cec3d4-c16d-40f0-8f52-d6b01f7588a8",
   "metadata": {},
   "outputs": [],
   "source": [
    "widget = AltairFusionWidget(vegalite_spec=chart.to_json())\n",
    "widget"
   ]
  },
  {
   "cell_type": "code",
   "execution_count": null,
   "id": "3c0eb27f-71d2-4a69-9193-c1c168047367",
   "metadata": {},
   "outputs": [],
   "source": [
    "import altairfusion_jupyter.widget "
   ]
  },
  {
   "cell_type": "code",
   "execution_count": null,
   "id": "07787677-865e-4fea-9e19-1d71d913803a",
   "metadata": {},
   "outputs": [],
   "source": [
    "alt.renderers.enable('vegafusion')"
   ]
  },
  {
   "cell_type": "code",
   "execution_count": null,
   "id": "10ca5930-e2d2-433c-8518-3d708839a527",
   "metadata": {},
   "outputs": [],
   "source": []
  },
  {
   "cell_type": "code",
   "execution_count": null,
   "id": "9ea12a93-c0b1-4acd-92a1-5d1c962e4c82",
   "metadata": {},
   "outputs": [],
   "source": [
    "chart"
   ]
  },
  {
   "cell_type": "code",
   "execution_count": null,
   "id": "ba724cc8-c8a8-404b-9d03-e29b016a8801",
   "metadata": {},
   "outputs": [],
   "source": [
    "from altairfusion_jupyter.widget import _widgets"
   ]
  },
  {
   "cell_type": "code",
   "execution_count": null,
   "id": "b8d06267-6f4a-41be-b17b-7cf06aa4f046",
   "metadata": {},
   "outputs": [],
   "source": [
    "_widgets[0]"
   ]
  },
  {
   "cell_type": "code",
   "execution_count": null,
   "id": "135bc5b8-94f6-4ecf-896e-1e714216ad39",
   "metadata": {},
   "outputs": [],
   "source": []
  }
 ],
 "metadata": {
  "kernelspec": {
   "display_name": "Python 3 (ipykernel)",
   "language": "python",
   "name": "python3"
  },
  "language_info": {
   "codemirror_mode": {
    "name": "ipython",
    "version": 3
   },
   "file_extension": ".py",
   "mimetype": "text/x-python",
   "name": "python",
   "nbconvert_exporter": "python",
   "pygments_lexer": "ipython3",
   "version": "3.8.12"
  }
 },
 "nbformat": 4,
 "nbformat_minor": 5
}
